{
 "cells": [
  {
   "cell_type": "code",
   "execution_count": 1,
   "id": "038e6d78",
   "metadata": {},
   "outputs": [],
   "source": [
    "import pandas as pd\n",
    "import numpy as np"
   ]
  },
  {
   "cell_type": "code",
   "execution_count": 2,
   "id": "d5619205",
   "metadata": {},
   "outputs": [],
   "source": [
    "df=pd.read_csv(\"data/raw.githubusercontent.com_alexeygrigorev_datasets_master_housing.csv\")"
   ]
  },
  {
   "cell_type": "code",
   "execution_count": 3,
   "id": "632f0507",
   "metadata": {},
   "outputs": [
    {
     "data": {
      "text/html": [
       "<div>\n",
       "<style scoped>\n",
       "    .dataframe tbody tr th:only-of-type {\n",
       "        vertical-align: middle;\n",
       "    }\n",
       "\n",
       "    .dataframe tbody tr th {\n",
       "        vertical-align: top;\n",
       "    }\n",
       "\n",
       "    .dataframe thead th {\n",
       "        text-align: right;\n",
       "    }\n",
       "</style>\n",
       "<table border=\"1\" class=\"dataframe\">\n",
       "  <thead>\n",
       "    <tr style=\"text-align: right;\">\n",
       "      <th></th>\n",
       "      <th>longitude</th>\n",
       "      <th>latitude</th>\n",
       "      <th>housing_median_age</th>\n",
       "      <th>total_rooms</th>\n",
       "      <th>total_bedrooms</th>\n",
       "      <th>population</th>\n",
       "      <th>households</th>\n",
       "      <th>median_income</th>\n",
       "      <th>median_house_value</th>\n",
       "      <th>ocean_proximity</th>\n",
       "    </tr>\n",
       "  </thead>\n",
       "  <tbody>\n",
       "    <tr>\n",
       "      <th>0</th>\n",
       "      <td>-122.23</td>\n",
       "      <td>37.88</td>\n",
       "      <td>41.0</td>\n",
       "      <td>880.0</td>\n",
       "      <td>129.0</td>\n",
       "      <td>322.0</td>\n",
       "      <td>126.0</td>\n",
       "      <td>8.3252</td>\n",
       "      <td>452600.0</td>\n",
       "      <td>NEAR BAY</td>\n",
       "    </tr>\n",
       "    <tr>\n",
       "      <th>1</th>\n",
       "      <td>-122.22</td>\n",
       "      <td>37.86</td>\n",
       "      <td>21.0</td>\n",
       "      <td>7099.0</td>\n",
       "      <td>1106.0</td>\n",
       "      <td>2401.0</td>\n",
       "      <td>1138.0</td>\n",
       "      <td>8.3014</td>\n",
       "      <td>358500.0</td>\n",
       "      <td>NEAR BAY</td>\n",
       "    </tr>\n",
       "    <tr>\n",
       "      <th>2</th>\n",
       "      <td>-122.24</td>\n",
       "      <td>37.85</td>\n",
       "      <td>52.0</td>\n",
       "      <td>1467.0</td>\n",
       "      <td>190.0</td>\n",
       "      <td>496.0</td>\n",
       "      <td>177.0</td>\n",
       "      <td>7.2574</td>\n",
       "      <td>352100.0</td>\n",
       "      <td>NEAR BAY</td>\n",
       "    </tr>\n",
       "    <tr>\n",
       "      <th>3</th>\n",
       "      <td>-122.25</td>\n",
       "      <td>37.85</td>\n",
       "      <td>52.0</td>\n",
       "      <td>1274.0</td>\n",
       "      <td>235.0</td>\n",
       "      <td>558.0</td>\n",
       "      <td>219.0</td>\n",
       "      <td>5.6431</td>\n",
       "      <td>341300.0</td>\n",
       "      <td>NEAR BAY</td>\n",
       "    </tr>\n",
       "    <tr>\n",
       "      <th>4</th>\n",
       "      <td>-122.25</td>\n",
       "      <td>37.85</td>\n",
       "      <td>52.0</td>\n",
       "      <td>1627.0</td>\n",
       "      <td>280.0</td>\n",
       "      <td>565.0</td>\n",
       "      <td>259.0</td>\n",
       "      <td>3.8462</td>\n",
       "      <td>342200.0</td>\n",
       "      <td>NEAR BAY</td>\n",
       "    </tr>\n",
       "    <tr>\n",
       "      <th>...</th>\n",
       "      <td>...</td>\n",
       "      <td>...</td>\n",
       "      <td>...</td>\n",
       "      <td>...</td>\n",
       "      <td>...</td>\n",
       "      <td>...</td>\n",
       "      <td>...</td>\n",
       "      <td>...</td>\n",
       "      <td>...</td>\n",
       "      <td>...</td>\n",
       "    </tr>\n",
       "    <tr>\n",
       "      <th>20635</th>\n",
       "      <td>-121.09</td>\n",
       "      <td>39.48</td>\n",
       "      <td>25.0</td>\n",
       "      <td>1665.0</td>\n",
       "      <td>374.0</td>\n",
       "      <td>845.0</td>\n",
       "      <td>330.0</td>\n",
       "      <td>1.5603</td>\n",
       "      <td>78100.0</td>\n",
       "      <td>INLAND</td>\n",
       "    </tr>\n",
       "    <tr>\n",
       "      <th>20636</th>\n",
       "      <td>-121.21</td>\n",
       "      <td>39.49</td>\n",
       "      <td>18.0</td>\n",
       "      <td>697.0</td>\n",
       "      <td>150.0</td>\n",
       "      <td>356.0</td>\n",
       "      <td>114.0</td>\n",
       "      <td>2.5568</td>\n",
       "      <td>77100.0</td>\n",
       "      <td>INLAND</td>\n",
       "    </tr>\n",
       "    <tr>\n",
       "      <th>20637</th>\n",
       "      <td>-121.22</td>\n",
       "      <td>39.43</td>\n",
       "      <td>17.0</td>\n",
       "      <td>2254.0</td>\n",
       "      <td>485.0</td>\n",
       "      <td>1007.0</td>\n",
       "      <td>433.0</td>\n",
       "      <td>1.7000</td>\n",
       "      <td>92300.0</td>\n",
       "      <td>INLAND</td>\n",
       "    </tr>\n",
       "    <tr>\n",
       "      <th>20638</th>\n",
       "      <td>-121.32</td>\n",
       "      <td>39.43</td>\n",
       "      <td>18.0</td>\n",
       "      <td>1860.0</td>\n",
       "      <td>409.0</td>\n",
       "      <td>741.0</td>\n",
       "      <td>349.0</td>\n",
       "      <td>1.8672</td>\n",
       "      <td>84700.0</td>\n",
       "      <td>INLAND</td>\n",
       "    </tr>\n",
       "    <tr>\n",
       "      <th>20639</th>\n",
       "      <td>-121.24</td>\n",
       "      <td>39.37</td>\n",
       "      <td>16.0</td>\n",
       "      <td>2785.0</td>\n",
       "      <td>616.0</td>\n",
       "      <td>1387.0</td>\n",
       "      <td>530.0</td>\n",
       "      <td>2.3886</td>\n",
       "      <td>89400.0</td>\n",
       "      <td>INLAND</td>\n",
       "    </tr>\n",
       "  </tbody>\n",
       "</table>\n",
       "<p>20640 rows × 10 columns</p>\n",
       "</div>"
      ],
      "text/plain": [
       "       longitude  latitude  housing_median_age  total_rooms  total_bedrooms  \\\n",
       "0        -122.23     37.88                41.0        880.0           129.0   \n",
       "1        -122.22     37.86                21.0       7099.0          1106.0   \n",
       "2        -122.24     37.85                52.0       1467.0           190.0   \n",
       "3        -122.25     37.85                52.0       1274.0           235.0   \n",
       "4        -122.25     37.85                52.0       1627.0           280.0   \n",
       "...          ...       ...                 ...          ...             ...   \n",
       "20635    -121.09     39.48                25.0       1665.0           374.0   \n",
       "20636    -121.21     39.49                18.0        697.0           150.0   \n",
       "20637    -121.22     39.43                17.0       2254.0           485.0   \n",
       "20638    -121.32     39.43                18.0       1860.0           409.0   \n",
       "20639    -121.24     39.37                16.0       2785.0           616.0   \n",
       "\n",
       "       population  households  median_income  median_house_value  \\\n",
       "0           322.0       126.0         8.3252            452600.0   \n",
       "1          2401.0      1138.0         8.3014            358500.0   \n",
       "2           496.0       177.0         7.2574            352100.0   \n",
       "3           558.0       219.0         5.6431            341300.0   \n",
       "4           565.0       259.0         3.8462            342200.0   \n",
       "...           ...         ...            ...                 ...   \n",
       "20635       845.0       330.0         1.5603             78100.0   \n",
       "20636       356.0       114.0         2.5568             77100.0   \n",
       "20637      1007.0       433.0         1.7000             92300.0   \n",
       "20638       741.0       349.0         1.8672             84700.0   \n",
       "20639      1387.0       530.0         2.3886             89400.0   \n",
       "\n",
       "      ocean_proximity  \n",
       "0            NEAR BAY  \n",
       "1            NEAR BAY  \n",
       "2            NEAR BAY  \n",
       "3            NEAR BAY  \n",
       "4            NEAR BAY  \n",
       "...               ...  \n",
       "20635          INLAND  \n",
       "20636          INLAND  \n",
       "20637          INLAND  \n",
       "20638          INLAND  \n",
       "20639          INLAND  \n",
       "\n",
       "[20640 rows x 10 columns]"
      ]
     },
     "execution_count": 3,
     "metadata": {},
     "output_type": "execute_result"
    }
   ],
   "source": [
    "df"
   ]
  },
  {
   "cell_type": "code",
   "execution_count": 4,
   "id": "695f84fe",
   "metadata": {},
   "outputs": [],
   "source": [
    "fil=['<1H OCEAN','INLAND']"
   ]
  },
  {
   "cell_type": "code",
   "execution_count": 5,
   "id": "8a847c68",
   "metadata": {},
   "outputs": [],
   "source": [
    "df=df[df.ocean_proximity.isin(fil)]"
   ]
  },
  {
   "cell_type": "code",
   "execution_count": 6,
   "id": "2d38b9fa",
   "metadata": {},
   "outputs": [],
   "source": [
    "fil_columns=[\n",
    "'latitude',\n",
    "'longitude',\n",
    "'housing_median_age',\n",
    "'total_rooms',\n",
    "'total_bedrooms',\n",
    "'population',\n",
    "'households',\n",
    "'median_income',\n",
    "'median_house_value']\n"
   ]
  },
  {
   "cell_type": "code",
   "execution_count": 7,
   "id": "48bb664d",
   "metadata": {},
   "outputs": [],
   "source": [
    "df=df[fil_columns]"
   ]
  },
  {
   "cell_type": "code",
   "execution_count": 61,
   "id": "5662739e",
   "metadata": {},
   "outputs": [
    {
     "data": {
      "text/html": [
       "<div>\n",
       "<style scoped>\n",
       "    .dataframe tbody tr th:only-of-type {\n",
       "        vertical-align: middle;\n",
       "    }\n",
       "\n",
       "    .dataframe tbody tr th {\n",
       "        vertical-align: top;\n",
       "    }\n",
       "\n",
       "    .dataframe thead th {\n",
       "        text-align: right;\n",
       "    }\n",
       "</style>\n",
       "<table border=\"1\" class=\"dataframe\">\n",
       "  <thead>\n",
       "    <tr style=\"text-align: right;\">\n",
       "      <th></th>\n",
       "      <th>latitude</th>\n",
       "      <th>longitude</th>\n",
       "      <th>housing_median_age</th>\n",
       "      <th>total_rooms</th>\n",
       "      <th>total_bedrooms</th>\n",
       "      <th>population</th>\n",
       "      <th>households</th>\n",
       "      <th>median_income</th>\n",
       "      <th>median_house_value</th>\n",
       "    </tr>\n",
       "  </thead>\n",
       "  <tbody>\n",
       "    <tr>\n",
       "      <th>701</th>\n",
       "      <td>37.64</td>\n",
       "      <td>-121.97</td>\n",
       "      <td>32.0</td>\n",
       "      <td>1283.0</td>\n",
       "      <td>194.0</td>\n",
       "      <td>485.0</td>\n",
       "      <td>171.0</td>\n",
       "      <td>6.0574</td>\n",
       "      <td>431000.0</td>\n",
       "    </tr>\n",
       "    <tr>\n",
       "      <th>830</th>\n",
       "      <td>37.61</td>\n",
       "      <td>-121.99</td>\n",
       "      <td>9.0</td>\n",
       "      <td>3666.0</td>\n",
       "      <td>711.0</td>\n",
       "      <td>2341.0</td>\n",
       "      <td>703.0</td>\n",
       "      <td>4.6458</td>\n",
       "      <td>217000.0</td>\n",
       "    </tr>\n",
       "    <tr>\n",
       "      <th>859</th>\n",
       "      <td>37.57</td>\n",
       "      <td>-121.97</td>\n",
       "      <td>21.0</td>\n",
       "      <td>4342.0</td>\n",
       "      <td>783.0</td>\n",
       "      <td>2172.0</td>\n",
       "      <td>789.0</td>\n",
       "      <td>4.6146</td>\n",
       "      <td>247600.0</td>\n",
       "    </tr>\n",
       "    <tr>\n",
       "      <th>860</th>\n",
       "      <td>37.58</td>\n",
       "      <td>-121.96</td>\n",
       "      <td>15.0</td>\n",
       "      <td>3575.0</td>\n",
       "      <td>597.0</td>\n",
       "      <td>1777.0</td>\n",
       "      <td>559.0</td>\n",
       "      <td>5.7192</td>\n",
       "      <td>283500.0</td>\n",
       "    </tr>\n",
       "    <tr>\n",
       "      <th>861</th>\n",
       "      <td>37.58</td>\n",
       "      <td>-121.98</td>\n",
       "      <td>20.0</td>\n",
       "      <td>4126.0</td>\n",
       "      <td>1031.0</td>\n",
       "      <td>2079.0</td>\n",
       "      <td>975.0</td>\n",
       "      <td>3.6832</td>\n",
       "      <td>216900.0</td>\n",
       "    </tr>\n",
       "    <tr>\n",
       "      <th>...</th>\n",
       "      <td>...</td>\n",
       "      <td>...</td>\n",
       "      <td>...</td>\n",
       "      <td>...</td>\n",
       "      <td>...</td>\n",
       "      <td>...</td>\n",
       "      <td>...</td>\n",
       "      <td>...</td>\n",
       "      <td>...</td>\n",
       "    </tr>\n",
       "    <tr>\n",
       "      <th>20635</th>\n",
       "      <td>39.48</td>\n",
       "      <td>-121.09</td>\n",
       "      <td>25.0</td>\n",
       "      <td>1665.0</td>\n",
       "      <td>374.0</td>\n",
       "      <td>845.0</td>\n",
       "      <td>330.0</td>\n",
       "      <td>1.5603</td>\n",
       "      <td>78100.0</td>\n",
       "    </tr>\n",
       "    <tr>\n",
       "      <th>20636</th>\n",
       "      <td>39.49</td>\n",
       "      <td>-121.21</td>\n",
       "      <td>18.0</td>\n",
       "      <td>697.0</td>\n",
       "      <td>150.0</td>\n",
       "      <td>356.0</td>\n",
       "      <td>114.0</td>\n",
       "      <td>2.5568</td>\n",
       "      <td>77100.0</td>\n",
       "    </tr>\n",
       "    <tr>\n",
       "      <th>20637</th>\n",
       "      <td>39.43</td>\n",
       "      <td>-121.22</td>\n",
       "      <td>17.0</td>\n",
       "      <td>2254.0</td>\n",
       "      <td>485.0</td>\n",
       "      <td>1007.0</td>\n",
       "      <td>433.0</td>\n",
       "      <td>1.7000</td>\n",
       "      <td>92300.0</td>\n",
       "    </tr>\n",
       "    <tr>\n",
       "      <th>20638</th>\n",
       "      <td>39.43</td>\n",
       "      <td>-121.32</td>\n",
       "      <td>18.0</td>\n",
       "      <td>1860.0</td>\n",
       "      <td>409.0</td>\n",
       "      <td>741.0</td>\n",
       "      <td>349.0</td>\n",
       "      <td>1.8672</td>\n",
       "      <td>84700.0</td>\n",
       "    </tr>\n",
       "    <tr>\n",
       "      <th>20639</th>\n",
       "      <td>39.37</td>\n",
       "      <td>-121.24</td>\n",
       "      <td>16.0</td>\n",
       "      <td>2785.0</td>\n",
       "      <td>616.0</td>\n",
       "      <td>1387.0</td>\n",
       "      <td>530.0</td>\n",
       "      <td>2.3886</td>\n",
       "      <td>89400.0</td>\n",
       "    </tr>\n",
       "  </tbody>\n",
       "</table>\n",
       "<p>15687 rows × 9 columns</p>\n",
       "</div>"
      ],
      "text/plain": [
       "       latitude  longitude  housing_median_age  total_rooms  total_bedrooms  \\\n",
       "701       37.64    -121.97                32.0       1283.0           194.0   \n",
       "830       37.61    -121.99                 9.0       3666.0           711.0   \n",
       "859       37.57    -121.97                21.0       4342.0           783.0   \n",
       "860       37.58    -121.96                15.0       3575.0           597.0   \n",
       "861       37.58    -121.98                20.0       4126.0          1031.0   \n",
       "...         ...        ...                 ...          ...             ...   \n",
       "20635     39.48    -121.09                25.0       1665.0           374.0   \n",
       "20636     39.49    -121.21                18.0        697.0           150.0   \n",
       "20637     39.43    -121.22                17.0       2254.0           485.0   \n",
       "20638     39.43    -121.32                18.0       1860.0           409.0   \n",
       "20639     39.37    -121.24                16.0       2785.0           616.0   \n",
       "\n",
       "       population  households  median_income  median_house_value  \n",
       "701         485.0       171.0         6.0574            431000.0  \n",
       "830        2341.0       703.0         4.6458            217000.0  \n",
       "859        2172.0       789.0         4.6146            247600.0  \n",
       "860        1777.0       559.0         5.7192            283500.0  \n",
       "861        2079.0       975.0         3.6832            216900.0  \n",
       "...           ...         ...            ...                 ...  \n",
       "20635       845.0       330.0         1.5603             78100.0  \n",
       "20636       356.0       114.0         2.5568             77100.0  \n",
       "20637      1007.0       433.0         1.7000             92300.0  \n",
       "20638       741.0       349.0         1.8672             84700.0  \n",
       "20639      1387.0       530.0         2.3886             89400.0  \n",
       "\n",
       "[15687 rows x 9 columns]"
      ]
     },
     "execution_count": 61,
     "metadata": {},
     "output_type": "execute_result"
    }
   ],
   "source": [
    "df"
   ]
  },
  {
   "cell_type": "code",
   "execution_count": 62,
   "id": "fcb0f54b",
   "metadata": {},
   "outputs": [
    {
     "data": {
      "text/plain": [
       "latitude                0\n",
       "longitude               0\n",
       "housing_median_age      0\n",
       "total_rooms             0\n",
       "total_bedrooms        157\n",
       "population              0\n",
       "households              0\n",
       "median_income           0\n",
       "median_house_value      0\n",
       "dtype: int64"
      ]
     },
     "execution_count": 62,
     "metadata": {},
     "output_type": "execute_result"
    }
   ],
   "source": [
    "df.isna().sum()"
   ]
  },
  {
   "cell_type": "code",
   "execution_count": 9,
   "id": "9bf6b505",
   "metadata": {},
   "outputs": [
    {
     "data": {
      "text/plain": [
       "1195.0"
      ]
     },
     "execution_count": 9,
     "metadata": {},
     "output_type": "execute_result"
    }
   ],
   "source": [
    "df.population.median()"
   ]
  },
  {
   "cell_type": "markdown",
   "id": "994a7389",
   "metadata": {},
   "source": [
    "# Prepare and split the dataset"
   ]
  },
  {
   "cell_type": "code",
   "execution_count": 10,
   "id": "37b91dd0",
   "metadata": {},
   "outputs": [],
   "source": [
    "np.random.seed(42)"
   ]
  },
  {
   "cell_type": "code",
   "execution_count": 11,
   "id": "da27995d",
   "metadata": {},
   "outputs": [],
   "source": [
    "idx=np.arange(df.shape[0])"
   ]
  },
  {
   "cell_type": "code",
   "execution_count": 12,
   "id": "e377d8a5",
   "metadata": {},
   "outputs": [],
   "source": []
  },
  {
   "cell_type": "code",
   "execution_count": 13,
   "id": "108ad53f",
   "metadata": {},
   "outputs": [],
   "source": []
  },
  {
   "cell_type": "code",
   "execution_count": 14,
   "id": "72730c67",
   "metadata": {},
   "outputs": [],
   "source": [
    "df_length=df.shape[0]\n",
    "df_train_length=int(df_length*(.6))\n",
    "df_val_length=int(df_length*(.2))\n",
    "df_test_length=int(df_length*(.2))"
   ]
  },
  {
   "cell_type": "code",
   "execution_count": 15,
   "id": "18db0eb7",
   "metadata": {},
   "outputs": [
    {
     "data": {
      "text/plain": [
       "array([    0,     1,     2, ..., 15684, 15685, 15686])"
      ]
     },
     "execution_count": 15,
     "metadata": {},
     "output_type": "execute_result"
    }
   ],
   "source": [
    "idx"
   ]
  },
  {
   "cell_type": "code",
   "execution_count": 16,
   "id": "28171b32",
   "metadata": {},
   "outputs": [],
   "source": [
    "np.random.shuffle(idx)"
   ]
  },
  {
   "cell_type": "code",
   "execution_count": 17,
   "id": "9fcb5b8f",
   "metadata": {},
   "outputs": [],
   "source": [
    "\n",
    "df_train=df.iloc[idx[:df_train_length]].reset_index(drop=True)"
   ]
  },
  {
   "cell_type": "code",
   "execution_count": 18,
   "id": "b13ed807",
   "metadata": {},
   "outputs": [],
   "source": [
    "\n",
    "df_val=df.iloc[idx[df_train_length:df_train_length+df_val_length]].reset_index(drop=True)\n",
    "df_test=df.iloc[idx[df_train_length+df_val_length:]].reset_index(drop=True)"
   ]
  },
  {
   "cell_type": "code",
   "execution_count": 19,
   "id": "d616c736",
   "metadata": {},
   "outputs": [],
   "source": [
    "df.median_house_value=np.log1p(df.median_house_value)"
   ]
  },
  {
   "cell_type": "code",
   "execution_count": 20,
   "id": "cb9c7b9c",
   "metadata": {},
   "outputs": [],
   "source": [
    "y=np.log1p(df.median_house_value).values"
   ]
  },
  {
   "cell_type": "code",
   "execution_count": 21,
   "id": "4879729f",
   "metadata": {},
   "outputs": [],
   "source": [
    "y_train=np.log1p(df_train.median_house_value).values\n",
    "y_val=np.log1p(df_val.median_house_value).values\n",
    "y_test=np.log1p(df_test.median_house_value).values\n"
   ]
  },
  {
   "cell_type": "code",
   "execution_count": 8,
   "id": "2aabc2fa",
   "metadata": {},
   "outputs": [],
   "source": [
    "def prep_data(df):\n",
    "    new=df.copy()\n",
    "    cols=[\"total_rooms\",\"total_bedrooms\",\"population\",\"households\"]\n",
    "    new=new[cols]\n",
    "    new=new.fillna(0)\n",
    "    return new\n",
    "    "
   ]
  },
  {
   "cell_type": "code",
   "execution_count": 23,
   "id": "d10ec42b",
   "metadata": {},
   "outputs": [],
   "source": [
    "train_x_fillzero=prep_data(df_val)"
   ]
  },
  {
   "cell_type": "markdown",
   "id": "bd5555e4",
   "metadata": {},
   "source": [
    "# filling with 0"
   ]
  },
  {
   "cell_type": "code",
   "execution_count": 9,
   "id": "6b448bdb",
   "metadata": {},
   "outputs": [],
   "source": [
    "def train_linear_reg(X,y):\n",
    "    ones=np.ones(X.shape[0])\n",
    "    X=np.column_stack([ones,X])\n",
    "    XTX=X.T.dot(X)\n",
    "    XTX_inv=np.linalg.inv(XTX)\n",
    "    w=XTX_inv.dot(X.T).dot(y)\n",
    "    return w[0],w[1:]"
   ]
  },
  {
   "cell_type": "code",
   "execution_count": 25,
   "id": "ff9f5021",
   "metadata": {},
   "outputs": [],
   "source": [
    "w0,w=train_linear_reg(train_x_fillzero,y_val)"
   ]
  },
  {
   "cell_type": "code",
   "execution_count": 26,
   "id": "f25193c4",
   "metadata": {},
   "outputs": [],
   "source": [
    "y_pred=w0+train_x_fillzero.dot(w)"
   ]
  },
  {
   "cell_type": "code",
   "execution_count": 27,
   "id": "fa580373",
   "metadata": {},
   "outputs": [
    {
     "data": {
      "text/plain": [
       "0       11.960420\n",
       "1       11.950467\n",
       "2       11.995731\n",
       "3       11.797565\n",
       "4       12.068567\n",
       "          ...    \n",
       "3132    12.031879\n",
       "3133    11.950303\n",
       "3134    12.488310\n",
       "3135    12.294891\n",
       "3136    11.982729\n",
       "Length: 3137, dtype: float64"
      ]
     },
     "execution_count": 27,
     "metadata": {},
     "output_type": "execute_result"
    }
   ],
   "source": [
    "y_pred"
   ]
  },
  {
   "cell_type": "markdown",
   "id": "bb0d9a7a",
   "metadata": {},
   "source": [
    "# filling with mean"
   ]
  },
  {
   "cell_type": "code",
   "execution_count": 10,
   "id": "68530144",
   "metadata": {},
   "outputs": [],
   "source": [
    "def prep_data_mean(df):\n",
    "    new=df.copy()\n",
    "    cols=[\"total_rooms\",\"total_bedrooms\",\"population\",\"households\"]\n",
    "    new=new[cols]\n",
    "    new=new.fillna(round(df_val.total_bedrooms.mean(),2))\n",
    "    return new"
   ]
  },
  {
   "cell_type": "code",
   "execution_count": 29,
   "id": "4cb1e9c3",
   "metadata": {},
   "outputs": [],
   "source": [
    "train_x_fill_mean=prep_data_mean(df_val)"
   ]
  },
  {
   "cell_type": "code",
   "execution_count": 30,
   "id": "70af54b7",
   "metadata": {},
   "outputs": [],
   "source": [
    "W0,W=train_linear_reg(train_x_fill_mean,y_val)"
   ]
  },
  {
   "cell_type": "code",
   "execution_count": 31,
   "id": "5735dfda",
   "metadata": {},
   "outputs": [],
   "source": [
    "Y_PRED=W0+train_x_fill_mean.dot(W)"
   ]
  },
  {
   "cell_type": "code",
   "execution_count": 32,
   "id": "88f5e44e",
   "metadata": {},
   "outputs": [
    {
     "data": {
      "text/plain": [
       "0       11.972583\n",
       "1       11.960743\n",
       "2       12.018445\n",
       "3       11.785192\n",
       "4       12.092388\n",
       "          ...    \n",
       "3132    12.037268\n",
       "3133    11.954518\n",
       "3134    12.021372\n",
       "3135    12.341033\n",
       "3136    12.003465\n",
       "Length: 3137, dtype: float64"
      ]
     },
     "execution_count": 32,
     "metadata": {},
     "output_type": "execute_result"
    }
   ],
   "source": [
    "Y_PRED"
   ]
  },
  {
   "cell_type": "markdown",
   "id": "2ebb886a",
   "metadata": {},
   "source": [
    "# rmse"
   ]
  },
  {
   "cell_type": "code",
   "execution_count": 11,
   "id": "36f92969",
   "metadata": {},
   "outputs": [],
   "source": [
    "def rmse(y,y_pred):\n",
    "    diff=(y-y_pred)**2\n",
    "    avg=diff.mean()\n",
    "    return (np.sqrt(avg))"
   ]
  },
  {
   "cell_type": "markdown",
   "id": "4e3c3700",
   "metadata": {},
   "source": [
    "rmse with filling with mean"
   ]
  },
  {
   "cell_type": "code",
   "execution_count": 34,
   "id": "e428b760",
   "metadata": {},
   "outputs": [
    {
     "data": {
      "text/plain": [
       "0.55"
      ]
     },
     "execution_count": 34,
     "metadata": {},
     "output_type": "execute_result"
    }
   ],
   "source": [
    "round(rmse(y_val,Y_PRED),2)"
   ]
  },
  {
   "cell_type": "markdown",
   "id": "b6d660b2",
   "metadata": {},
   "source": [
    "rmse with filling 0's"
   ]
  },
  {
   "cell_type": "code",
   "execution_count": 35,
   "id": "49e3baf6",
   "metadata": {},
   "outputs": [
    {
     "data": {
      "text/plain": [
       "0.55"
      ]
     },
     "execution_count": 35,
     "metadata": {},
     "output_type": "execute_result"
    }
   ],
   "source": [
    "round(rmse(y_val,y_pred),2)"
   ]
  },
  {
   "cell_type": "markdown",
   "id": "0016dbd8",
   "metadata": {},
   "source": [
    "# regularization"
   ]
  },
  {
   "cell_type": "code",
   "execution_count": 12,
   "id": "9f99787d",
   "metadata": {},
   "outputs": [],
   "source": [
    "def train_linear_reg_regularization(X,y,r):\n",
    "    ones=np.ones(X.shape[0])\n",
    "    X=np.column_stack([ones,X])\n",
    "    XTX=X.T.dot(X)\n",
    "    XTX=XTX+r*(np.eye(XTX.shape[0]))\n",
    "    XTX_inv=np.linalg.inv(XTX)\n",
    "    w=XTX_inv.dot(X.T).dot(y)\n",
    "    return w[0],w[1:]"
   ]
  },
  {
   "cell_type": "code",
   "execution_count": 37,
   "id": "ccd743cd",
   "metadata": {},
   "outputs": [
    {
     "name": "stdout",
     "output_type": "stream",
     "text": [
      "0.55\n",
      "0.55\n",
      "0.55\n",
      "0.55\n",
      "0.55\n",
      "0.55\n",
      "0.55\n",
      "0.55\n",
      "0.55\n"
     ]
    }
   ],
   "source": [
    "for r in [0, 0.000001, 0.0001, 0.001, 0.01, 0.1, 1, 5, 10]:\n",
    "    train_x=prep_data(df_train)\n",
    "    w0,w=train_linear_reg_regularization(train_x,y_train,r)\n",
    "    val_x=prep_data(df_val)\n",
    "    y_pred=w0+val_x.dot(w)\n",
    "    print(rmse(y_pred,y_val))"
   ]
  },
  {
   "cell_type": "code",
   "execution_count": 38,
   "id": "a527a62b",
   "metadata": {},
   "outputs": [
    {
     "data": {
      "text/html": [
       "<div>\n",
       "<style scoped>\n",
       "    .dataframe tbody tr th:only-of-type {\n",
       "        vertical-align: middle;\n",
       "    }\n",
       "\n",
       "    .dataframe tbody tr th {\n",
       "        vertical-align: top;\n",
       "    }\n",
       "\n",
       "    .dataframe thead th {\n",
       "        text-align: right;\n",
       "    }\n",
       "</style>\n",
       "<table border=\"1\" class=\"dataframe\">\n",
       "  <thead>\n",
       "    <tr style=\"text-align: right;\">\n",
       "      <th></th>\n",
       "      <th>total_rooms</th>\n",
       "      <th>total_bedrooms</th>\n",
       "      <th>population</th>\n",
       "      <th>households</th>\n",
       "    </tr>\n",
       "  </thead>\n",
       "  <tbody>\n",
       "    <tr>\n",
       "      <th>0</th>\n",
       "      <td>2935.0</td>\n",
       "      <td>523.0</td>\n",
       "      <td>1927.0</td>\n",
       "      <td>530.0</td>\n",
       "    </tr>\n",
       "    <tr>\n",
       "      <th>1</th>\n",
       "      <td>2426.0</td>\n",
       "      <td>426.0</td>\n",
       "      <td>1319.0</td>\n",
       "      <td>446.0</td>\n",
       "    </tr>\n",
       "    <tr>\n",
       "      <th>2</th>\n",
       "      <td>3653.0</td>\n",
       "      <td>568.0</td>\n",
       "      <td>1930.0</td>\n",
       "      <td>585.0</td>\n",
       "    </tr>\n",
       "    <tr>\n",
       "      <th>3</th>\n",
       "      <td>2668.0</td>\n",
       "      <td>609.0</td>\n",
       "      <td>1512.0</td>\n",
       "      <td>541.0</td>\n",
       "    </tr>\n",
       "    <tr>\n",
       "      <th>4</th>\n",
       "      <td>2479.0</td>\n",
       "      <td>541.0</td>\n",
       "      <td>1990.0</td>\n",
       "      <td>506.0</td>\n",
       "    </tr>\n",
       "    <tr>\n",
       "      <th>...</th>\n",
       "      <td>...</td>\n",
       "      <td>...</td>\n",
       "      <td>...</td>\n",
       "      <td>...</td>\n",
       "    </tr>\n",
       "    <tr>\n",
       "      <th>9407</th>\n",
       "      <td>2075.0</td>\n",
       "      <td>424.0</td>\n",
       "      <td>1312.0</td>\n",
       "      <td>396.0</td>\n",
       "    </tr>\n",
       "    <tr>\n",
       "      <th>9408</th>\n",
       "      <td>2005.0</td>\n",
       "      <td>392.0</td>\n",
       "      <td>1043.0</td>\n",
       "      <td>351.0</td>\n",
       "    </tr>\n",
       "    <tr>\n",
       "      <th>9409</th>\n",
       "      <td>1673.0</td>\n",
       "      <td>385.0</td>\n",
       "      <td>1434.0</td>\n",
       "      <td>371.0</td>\n",
       "    </tr>\n",
       "    <tr>\n",
       "      <th>9410</th>\n",
       "      <td>1238.0</td>\n",
       "      <td>147.0</td>\n",
       "      <td>377.0</td>\n",
       "      <td>145.0</td>\n",
       "    </tr>\n",
       "    <tr>\n",
       "      <th>9411</th>\n",
       "      <td>3668.0</td>\n",
       "      <td>890.0</td>\n",
       "      <td>3151.0</td>\n",
       "      <td>810.0</td>\n",
       "    </tr>\n",
       "  </tbody>\n",
       "</table>\n",
       "<p>9412 rows × 4 columns</p>\n",
       "</div>"
      ],
      "text/plain": [
       "      total_rooms  total_bedrooms  population  households\n",
       "0          2935.0           523.0      1927.0       530.0\n",
       "1          2426.0           426.0      1319.0       446.0\n",
       "2          3653.0           568.0      1930.0       585.0\n",
       "3          2668.0           609.0      1512.0       541.0\n",
       "4          2479.0           541.0      1990.0       506.0\n",
       "...           ...             ...         ...         ...\n",
       "9407       2075.0           424.0      1312.0       396.0\n",
       "9408       2005.0           392.0      1043.0       351.0\n",
       "9409       1673.0           385.0      1434.0       371.0\n",
       "9410       1238.0           147.0       377.0       145.0\n",
       "9411       3668.0           890.0      3151.0       810.0\n",
       "\n",
       "[9412 rows x 4 columns]"
      ]
     },
     "execution_count": 38,
     "metadata": {},
     "output_type": "execute_result"
    }
   ],
   "source": [
    "train_x"
   ]
  },
  {
   "cell_type": "code",
   "execution_count": 39,
   "id": "6b451a80",
   "metadata": {},
   "outputs": [
    {
     "data": {
      "text/html": [
       "<div>\n",
       "<style scoped>\n",
       "    .dataframe tbody tr th:only-of-type {\n",
       "        vertical-align: middle;\n",
       "    }\n",
       "\n",
       "    .dataframe tbody tr th {\n",
       "        vertical-align: top;\n",
       "    }\n",
       "\n",
       "    .dataframe thead th {\n",
       "        text-align: right;\n",
       "    }\n",
       "</style>\n",
       "<table border=\"1\" class=\"dataframe\">\n",
       "  <thead>\n",
       "    <tr style=\"text-align: right;\">\n",
       "      <th></th>\n",
       "      <th>total_rooms</th>\n",
       "      <th>total_bedrooms</th>\n",
       "      <th>population</th>\n",
       "      <th>households</th>\n",
       "    </tr>\n",
       "  </thead>\n",
       "  <tbody>\n",
       "    <tr>\n",
       "      <th>0</th>\n",
       "      <td>1307.0</td>\n",
       "      <td>441.0</td>\n",
       "      <td>884.0</td>\n",
       "      <td>456.0</td>\n",
       "    </tr>\n",
       "    <tr>\n",
       "      <th>1</th>\n",
       "      <td>1608.0</td>\n",
       "      <td>297.0</td>\n",
       "      <td>1057.0</td>\n",
       "      <td>295.0</td>\n",
       "    </tr>\n",
       "    <tr>\n",
       "      <th>2</th>\n",
       "      <td>1410.0</td>\n",
       "      <td>214.0</td>\n",
       "      <td>837.0</td>\n",
       "      <td>240.0</td>\n",
       "    </tr>\n",
       "    <tr>\n",
       "      <th>3</th>\n",
       "      <td>1116.0</td>\n",
       "      <td>328.0</td>\n",
       "      <td>1265.0</td>\n",
       "      <td>302.0</td>\n",
       "    </tr>\n",
       "    <tr>\n",
       "      <th>4</th>\n",
       "      <td>2409.0</td>\n",
       "      <td>436.0</td>\n",
       "      <td>1142.0</td>\n",
       "      <td>440.0</td>\n",
       "    </tr>\n",
       "    <tr>\n",
       "      <th>...</th>\n",
       "      <td>...</td>\n",
       "      <td>...</td>\n",
       "      <td>...</td>\n",
       "      <td>...</td>\n",
       "    </tr>\n",
       "    <tr>\n",
       "      <th>3132</th>\n",
       "      <td>3293.0</td>\n",
       "      <td>585.0</td>\n",
       "      <td>1678.0</td>\n",
       "      <td>530.0</td>\n",
       "    </tr>\n",
       "    <tr>\n",
       "      <th>3133</th>\n",
       "      <td>2610.0</td>\n",
       "      <td>597.0</td>\n",
       "      <td>1659.0</td>\n",
       "      <td>571.0</td>\n",
       "    </tr>\n",
       "    <tr>\n",
       "      <th>3134</th>\n",
       "      <td>2516.0</td>\n",
       "      <td>0.0</td>\n",
       "      <td>1266.0</td>\n",
       "      <td>494.0</td>\n",
       "    </tr>\n",
       "    <tr>\n",
       "      <th>3135</th>\n",
       "      <td>5308.0</td>\n",
       "      <td>854.0</td>\n",
       "      <td>2114.0</td>\n",
       "      <td>838.0</td>\n",
       "    </tr>\n",
       "    <tr>\n",
       "      <th>3136</th>\n",
       "      <td>3514.0</td>\n",
       "      <td>818.0</td>\n",
       "      <td>2277.0</td>\n",
       "      <td>828.0</td>\n",
       "    </tr>\n",
       "  </tbody>\n",
       "</table>\n",
       "<p>3137 rows × 4 columns</p>\n",
       "</div>"
      ],
      "text/plain": [
       "      total_rooms  total_bedrooms  population  households\n",
       "0          1307.0           441.0       884.0       456.0\n",
       "1          1608.0           297.0      1057.0       295.0\n",
       "2          1410.0           214.0       837.0       240.0\n",
       "3          1116.0           328.0      1265.0       302.0\n",
       "4          2409.0           436.0      1142.0       440.0\n",
       "...           ...             ...         ...         ...\n",
       "3132       3293.0           585.0      1678.0       530.0\n",
       "3133       2610.0           597.0      1659.0       571.0\n",
       "3134       2516.0             0.0      1266.0       494.0\n",
       "3135       5308.0           854.0      2114.0       838.0\n",
       "3136       3514.0           818.0      2277.0       828.0\n",
       "\n",
       "[3137 rows x 4 columns]"
      ]
     },
     "execution_count": 39,
     "metadata": {},
     "output_type": "execute_result"
    }
   ],
   "source": [
    "val_x"
   ]
  },
  {
   "cell_type": "markdown",
   "id": "4c79d1ae",
   "metadata": {},
   "source": [
    "\n",
    "# shuffling"
   ]
  },
  {
   "cell_type": "code",
   "execution_count": 79,
   "id": "e604a52e",
   "metadata": {},
   "outputs": [],
   "source": [
    "def shufling(seed,df):\n",
    "    np.random.seed(seed)\n",
    "    df_length=df.shape[0]\n",
    "    df_train_length=int(df_length*(.6))\n",
    "    df_val_length=int(df_length*(.2))\n",
    "    df_test_length=int(df_length*(.2))\n",
    "    idx=np.arange(df.shape[0])\n",
    "    np.random.shuffle(idx)\n",
    "    df_train=(df.iloc[idx[:df_train_length]])\n",
    "    df_val=(df.iloc[idx[df_train_length:df_train_length+df_val_length]])\n",
    "    df_test=(df.iloc[idx[df_train_length+df_val_length:]])\n",
    "    y_train=np.log1p(df_train.median_house_value).values\n",
    "    y_val=np.log1p(df_val.median_house_value).values\n",
    "    y_test=np.log1p(df_test.median_house_value).values\n",
    "    train_x=prep_data(df_train)\n",
    "    val_x=prep_data(df_val)\n",
    "    test_x=prep_data(df_test)\n",
    "    W0,W=train_linear_reg(train_x,y_train)\n",
    "    Y_PRED=W0+val_x.dot(W)\n",
    "    \n",
    "    return rmse(Y_PRED,y_val)\n",
    "    \n",
    "    \n",
    "    "
   ]
  },
  {
   "cell_type": "code",
   "execution_count": 80,
   "id": "d7b8ad54",
   "metadata": {},
   "outputs": [],
   "source": [
    "rmse_sum=[]\n",
    "for s in [0, 1, 2, 3, 4, 5, 6, 7, 8, 9]:\n",
    "    rmse_sum.append(shufling(s,df))\n",
    "    "
   ]
  },
  {
   "cell_type": "code",
   "execution_count": 81,
   "id": "8e1f1256",
   "metadata": {},
   "outputs": [
    {
     "data": {
      "text/plain": [
       "0.005"
      ]
     },
     "execution_count": 81,
     "metadata": {},
     "output_type": "execute_result"
    }
   ],
   "source": [
    "round(np.std(rmse_sum),3)"
   ]
  },
  {
   "cell_type": "code",
   "execution_count": 40,
   "id": "726e0f84",
   "metadata": {},
   "outputs": [
    {
     "data": {
      "text/html": [
       "<div>\n",
       "<style scoped>\n",
       "    .dataframe tbody tr th:only-of-type {\n",
       "        vertical-align: middle;\n",
       "    }\n",
       "\n",
       "    .dataframe tbody tr th {\n",
       "        vertical-align: top;\n",
       "    }\n",
       "\n",
       "    .dataframe thead th {\n",
       "        text-align: right;\n",
       "    }\n",
       "</style>\n",
       "<table border=\"1\" class=\"dataframe\">\n",
       "  <thead>\n",
       "    <tr style=\"text-align: right;\">\n",
       "      <th></th>\n",
       "      <th>latitude</th>\n",
       "      <th>longitude</th>\n",
       "      <th>housing_median_age</th>\n",
       "      <th>total_rooms</th>\n",
       "      <th>total_bedrooms</th>\n",
       "      <th>population</th>\n",
       "      <th>households</th>\n",
       "      <th>median_income</th>\n",
       "      <th>median_house_value</th>\n",
       "    </tr>\n",
       "  </thead>\n",
       "  <tbody>\n",
       "    <tr>\n",
       "      <th>701</th>\n",
       "      <td>37.64</td>\n",
       "      <td>-121.97</td>\n",
       "      <td>32.0</td>\n",
       "      <td>1283.0</td>\n",
       "      <td>194.0</td>\n",
       "      <td>485.0</td>\n",
       "      <td>171.0</td>\n",
       "      <td>6.0574</td>\n",
       "      <td>12.973866</td>\n",
       "    </tr>\n",
       "    <tr>\n",
       "      <th>830</th>\n",
       "      <td>37.61</td>\n",
       "      <td>-121.99</td>\n",
       "      <td>9.0</td>\n",
       "      <td>3666.0</td>\n",
       "      <td>711.0</td>\n",
       "      <td>2341.0</td>\n",
       "      <td>703.0</td>\n",
       "      <td>4.6458</td>\n",
       "      <td>12.287657</td>\n",
       "    </tr>\n",
       "    <tr>\n",
       "      <th>859</th>\n",
       "      <td>37.57</td>\n",
       "      <td>-121.97</td>\n",
       "      <td>21.0</td>\n",
       "      <td>4342.0</td>\n",
       "      <td>783.0</td>\n",
       "      <td>2172.0</td>\n",
       "      <td>789.0</td>\n",
       "      <td>4.6146</td>\n",
       "      <td>12.419574</td>\n",
       "    </tr>\n",
       "    <tr>\n",
       "      <th>860</th>\n",
       "      <td>37.58</td>\n",
       "      <td>-121.96</td>\n",
       "      <td>15.0</td>\n",
       "      <td>3575.0</td>\n",
       "      <td>597.0</td>\n",
       "      <td>1777.0</td>\n",
       "      <td>559.0</td>\n",
       "      <td>5.7192</td>\n",
       "      <td>12.554971</td>\n",
       "    </tr>\n",
       "    <tr>\n",
       "      <th>861</th>\n",
       "      <td>37.58</td>\n",
       "      <td>-121.98</td>\n",
       "      <td>20.0</td>\n",
       "      <td>4126.0</td>\n",
       "      <td>1031.0</td>\n",
       "      <td>2079.0</td>\n",
       "      <td>975.0</td>\n",
       "      <td>3.6832</td>\n",
       "      <td>12.287196</td>\n",
       "    </tr>\n",
       "    <tr>\n",
       "      <th>...</th>\n",
       "      <td>...</td>\n",
       "      <td>...</td>\n",
       "      <td>...</td>\n",
       "      <td>...</td>\n",
       "      <td>...</td>\n",
       "      <td>...</td>\n",
       "      <td>...</td>\n",
       "      <td>...</td>\n",
       "      <td>...</td>\n",
       "    </tr>\n",
       "    <tr>\n",
       "      <th>20635</th>\n",
       "      <td>39.48</td>\n",
       "      <td>-121.09</td>\n",
       "      <td>25.0</td>\n",
       "      <td>1665.0</td>\n",
       "      <td>374.0</td>\n",
       "      <td>845.0</td>\n",
       "      <td>330.0</td>\n",
       "      <td>1.5603</td>\n",
       "      <td>11.265758</td>\n",
       "    </tr>\n",
       "    <tr>\n",
       "      <th>20636</th>\n",
       "      <td>39.49</td>\n",
       "      <td>-121.21</td>\n",
       "      <td>18.0</td>\n",
       "      <td>697.0</td>\n",
       "      <td>150.0</td>\n",
       "      <td>356.0</td>\n",
       "      <td>114.0</td>\n",
       "      <td>2.5568</td>\n",
       "      <td>11.252872</td>\n",
       "    </tr>\n",
       "    <tr>\n",
       "      <th>20637</th>\n",
       "      <td>39.43</td>\n",
       "      <td>-121.22</td>\n",
       "      <td>17.0</td>\n",
       "      <td>2254.0</td>\n",
       "      <td>485.0</td>\n",
       "      <td>1007.0</td>\n",
       "      <td>433.0</td>\n",
       "      <td>1.7000</td>\n",
       "      <td>11.432810</td>\n",
       "    </tr>\n",
       "    <tr>\n",
       "      <th>20638</th>\n",
       "      <td>39.43</td>\n",
       "      <td>-121.32</td>\n",
       "      <td>18.0</td>\n",
       "      <td>1860.0</td>\n",
       "      <td>409.0</td>\n",
       "      <td>741.0</td>\n",
       "      <td>349.0</td>\n",
       "      <td>1.8672</td>\n",
       "      <td>11.346883</td>\n",
       "    </tr>\n",
       "    <tr>\n",
       "      <th>20639</th>\n",
       "      <td>39.37</td>\n",
       "      <td>-121.24</td>\n",
       "      <td>16.0</td>\n",
       "      <td>2785.0</td>\n",
       "      <td>616.0</td>\n",
       "      <td>1387.0</td>\n",
       "      <td>530.0</td>\n",
       "      <td>2.3886</td>\n",
       "      <td>11.400887</td>\n",
       "    </tr>\n",
       "  </tbody>\n",
       "</table>\n",
       "<p>15687 rows × 9 columns</p>\n",
       "</div>"
      ],
      "text/plain": [
       "       latitude  longitude  housing_median_age  total_rooms  total_bedrooms  \\\n",
       "701       37.64    -121.97                32.0       1283.0           194.0   \n",
       "830       37.61    -121.99                 9.0       3666.0           711.0   \n",
       "859       37.57    -121.97                21.0       4342.0           783.0   \n",
       "860       37.58    -121.96                15.0       3575.0           597.0   \n",
       "861       37.58    -121.98                20.0       4126.0          1031.0   \n",
       "...         ...        ...                 ...          ...             ...   \n",
       "20635     39.48    -121.09                25.0       1665.0           374.0   \n",
       "20636     39.49    -121.21                18.0        697.0           150.0   \n",
       "20637     39.43    -121.22                17.0       2254.0           485.0   \n",
       "20638     39.43    -121.32                18.0       1860.0           409.0   \n",
       "20639     39.37    -121.24                16.0       2785.0           616.0   \n",
       "\n",
       "       population  households  median_income  median_house_value  \n",
       "701         485.0       171.0         6.0574           12.973866  \n",
       "830        2341.0       703.0         4.6458           12.287657  \n",
       "859        2172.0       789.0         4.6146           12.419574  \n",
       "860        1777.0       559.0         5.7192           12.554971  \n",
       "861        2079.0       975.0         3.6832           12.287196  \n",
       "...           ...         ...            ...                 ...  \n",
       "20635       845.0       330.0         1.5603           11.265758  \n",
       "20636       356.0       114.0         2.5568           11.252872  \n",
       "20637      1007.0       433.0         1.7000           11.432810  \n",
       "20638       741.0       349.0         1.8672           11.346883  \n",
       "20639      1387.0       530.0         2.3886           11.400887  \n",
       "\n",
       "[15687 rows x 9 columns]"
      ]
     },
     "execution_count": 40,
     "metadata": {},
     "output_type": "execute_result"
    }
   ],
   "source": [
    "df"
   ]
  },
  {
   "cell_type": "markdown",
   "id": "33eeeb28",
   "metadata": {},
   "source": [
    "# using seed value 9"
   ]
  },
  {
   "cell_type": "code",
   "execution_count": 13,
   "id": "e91498cf",
   "metadata": {},
   "outputs": [],
   "source": [
    "np.random.seed(9)"
   ]
  },
  {
   "cell_type": "code",
   "execution_count": 16,
   "id": "8de99fba",
   "metadata": {},
   "outputs": [],
   "source": [
    "df_length=df.shape[0]\n",
    "df_train_length=int(df_length*(.6))\n",
    "df_val_length=int(df_length*(.2))\n",
    "df_test_length=int(df_length*(.2))"
   ]
  },
  {
   "cell_type": "code",
   "execution_count": 17,
   "id": "6dde221b",
   "metadata": {},
   "outputs": [],
   "source": [
    "idx=np.arange(df.shape[0])\n",
    "np.random.shuffle(idx)\n"
   ]
  },
  {
   "cell_type": "code",
   "execution_count": null,
   "id": "3eccbdd0",
   "metadata": {},
   "outputs": [],
   "source": []
  },
  {
   "cell_type": "code",
   "execution_count": 18,
   "id": "0584d48e",
   "metadata": {},
   "outputs": [],
   "source": [
    "df_train=(df.iloc[idx[:df_train_length]])\n",
    "df_val=(df.iloc[idx[df_train_length:df_train_length+df_val_length]])\n",
    "df_test=(df.iloc[idx[df_train_length+df_val_length:]])"
   ]
  },
  {
   "cell_type": "code",
   "execution_count": 19,
   "id": "635bd6eb",
   "metadata": {},
   "outputs": [],
   "source": [
    "combined_train_val=prep_data(pd.concat([df_train,df_val]).reset_index(drop=True))"
   ]
  },
  {
   "cell_type": "code",
   "execution_count": 28,
   "id": "fb81826e",
   "metadata": {},
   "outputs": [],
   "source": [
    "combined_y=np.concatenate((y_train,y_val))"
   ]
  },
  {
   "cell_type": "code",
   "execution_count": 27,
   "id": "fe62e187",
   "metadata": {},
   "outputs": [
    {
     "data": {
      "text/html": [
       "<div>\n",
       "<style scoped>\n",
       "    .dataframe tbody tr th:only-of-type {\n",
       "        vertical-align: middle;\n",
       "    }\n",
       "\n",
       "    .dataframe tbody tr th {\n",
       "        vertical-align: top;\n",
       "    }\n",
       "\n",
       "    .dataframe thead th {\n",
       "        text-align: right;\n",
       "    }\n",
       "</style>\n",
       "<table border=\"1\" class=\"dataframe\">\n",
       "  <thead>\n",
       "    <tr style=\"text-align: right;\">\n",
       "      <th></th>\n",
       "      <th>total_rooms</th>\n",
       "      <th>total_bedrooms</th>\n",
       "      <th>population</th>\n",
       "      <th>households</th>\n",
       "    </tr>\n",
       "  </thead>\n",
       "  <tbody>\n",
       "    <tr>\n",
       "      <th>0</th>\n",
       "      <td>4046.0</td>\n",
       "      <td>731.0</td>\n",
       "      <td>1684.0</td>\n",
       "      <td>701.0</td>\n",
       "    </tr>\n",
       "    <tr>\n",
       "      <th>1</th>\n",
       "      <td>5166.0</td>\n",
       "      <td>770.0</td>\n",
       "      <td>2374.0</td>\n",
       "      <td>753.0</td>\n",
       "    </tr>\n",
       "    <tr>\n",
       "      <th>2</th>\n",
       "      <td>1018.0</td>\n",
       "      <td>169.0</td>\n",
       "      <td>484.0</td>\n",
       "      <td>174.0</td>\n",
       "    </tr>\n",
       "    <tr>\n",
       "      <th>3</th>\n",
       "      <td>1604.0</td>\n",
       "      <td>284.0</td>\n",
       "      <td>639.0</td>\n",
       "      <td>278.0</td>\n",
       "    </tr>\n",
       "    <tr>\n",
       "      <th>4</th>\n",
       "      <td>2744.0</td>\n",
       "      <td>541.0</td>\n",
       "      <td>1333.0</td>\n",
       "      <td>503.0</td>\n",
       "    </tr>\n",
       "    <tr>\n",
       "      <th>...</th>\n",
       "      <td>...</td>\n",
       "      <td>...</td>\n",
       "      <td>...</td>\n",
       "      <td>...</td>\n",
       "    </tr>\n",
       "    <tr>\n",
       "      <th>12544</th>\n",
       "      <td>2497.0</td>\n",
       "      <td>500.0</td>\n",
       "      <td>1357.0</td>\n",
       "      <td>456.0</td>\n",
       "    </tr>\n",
       "    <tr>\n",
       "      <th>12545</th>\n",
       "      <td>2069.0</td>\n",
       "      <td>312.0</td>\n",
       "      <td>889.0</td>\n",
       "      <td>299.0</td>\n",
       "    </tr>\n",
       "    <tr>\n",
       "      <th>12546</th>\n",
       "      <td>763.0</td>\n",
       "      <td>191.0</td>\n",
       "      <td>754.0</td>\n",
       "      <td>174.0</td>\n",
       "    </tr>\n",
       "    <tr>\n",
       "      <th>12547</th>\n",
       "      <td>5211.0</td>\n",
       "      <td>949.0</td>\n",
       "      <td>3025.0</td>\n",
       "      <td>948.0</td>\n",
       "    </tr>\n",
       "    <tr>\n",
       "      <th>12548</th>\n",
       "      <td>1575.0</td>\n",
       "      <td>262.0</td>\n",
       "      <td>716.0</td>\n",
       "      <td>259.0</td>\n",
       "    </tr>\n",
       "  </tbody>\n",
       "</table>\n",
       "<p>12549 rows × 4 columns</p>\n",
       "</div>"
      ],
      "text/plain": [
       "       total_rooms  total_bedrooms  population  households\n",
       "0           4046.0           731.0      1684.0       701.0\n",
       "1           5166.0           770.0      2374.0       753.0\n",
       "2           1018.0           169.0       484.0       174.0\n",
       "3           1604.0           284.0       639.0       278.0\n",
       "4           2744.0           541.0      1333.0       503.0\n",
       "...            ...             ...         ...         ...\n",
       "12544       2497.0           500.0      1357.0       456.0\n",
       "12545       2069.0           312.0       889.0       299.0\n",
       "12546        763.0           191.0       754.0       174.0\n",
       "12547       5211.0           949.0      3025.0       948.0\n",
       "12548       1575.0           262.0       716.0       259.0\n",
       "\n",
       "[12549 rows x 4 columns]"
      ]
     },
     "execution_count": 27,
     "metadata": {},
     "output_type": "execute_result"
    }
   ],
   "source": [
    "combined_train_val"
   ]
  },
  {
   "cell_type": "code",
   "execution_count": 30,
   "id": "edb6c85f",
   "metadata": {},
   "outputs": [
    {
     "data": {
      "text/plain": [
       "12549"
      ]
     },
     "execution_count": 30,
     "metadata": {},
     "output_type": "execute_result"
    }
   ],
   "source": [
    "len(combined_y)"
   ]
  },
  {
   "cell_type": "code",
   "execution_count": 21,
   "id": "400b4394",
   "metadata": {},
   "outputs": [],
   "source": [
    "\n",
    "y_train=np.log1p(df_train.median_house_value).values\n",
    "y_val=np.log1p(df_val.median_house_value).values\n",
    "y_test=np.log1p(df_test.median_house_value).values"
   ]
  },
  {
   "cell_type": "code",
   "execution_count": 23,
   "id": "fde84444",
   "metadata": {},
   "outputs": [],
   "source": [
    "train_x=prep_data(df_train)\n",
    "val_x=prep_data(df_val)\n",
    "test_x=prep_data(df_test)"
   ]
  },
  {
   "cell_type": "code",
   "execution_count": 24,
   "id": "01396e1b",
   "metadata": {},
   "outputs": [],
   "source": [
    "\n",
    "W0,W=train_linear_reg_regularization(combined_train_val,combined_y,r=0.001)\n",
    "Y_PRED=W0+test_x.dot(W)"
   ]
  },
  {
   "cell_type": "code",
   "execution_count": 25,
   "id": "ece41c53",
   "metadata": {},
   "outputs": [
    {
     "data": {
      "text/plain": [
       "17992    12.135869\n",
       "6929     11.778735\n",
       "16483    12.029866\n",
       "12645    11.794454\n",
       "13648    11.916217\n",
       "           ...    \n",
       "7660     11.923988\n",
       "1543     12.284027\n",
       "8450     11.939727\n",
       "5904     11.881362\n",
       "10633    12.112256\n",
       "Length: 3138, dtype: float64"
      ]
     },
     "execution_count": 25,
     "metadata": {},
     "output_type": "execute_result"
    }
   ],
   "source": [
    "Y_PRED"
   ]
  },
  {
   "cell_type": "code",
   "execution_count": 26,
   "id": "814270ee",
   "metadata": {},
   "outputs": [
    {
     "data": {
      "text/plain": [
       "0.535"
      ]
     },
     "execution_count": 26,
     "metadata": {},
     "output_type": "execute_result"
    }
   ],
   "source": [
    "round(rmse(Y_PRED,y_test),3)"
   ]
  },
  {
   "cell_type": "code",
   "execution_count": null,
   "id": "5545d33e",
   "metadata": {},
   "outputs": [],
   "source": []
  },
  {
   "cell_type": "code",
   "execution_count": null,
   "id": "ffc38fbc",
   "metadata": {},
   "outputs": [],
   "source": []
  }
 ],
 "metadata": {
  "kernelspec": {
   "display_name": "ml-zoomcamp23",
   "language": "python",
   "name": "ml-zoomcamp23"
  },
  "language_info": {
   "codemirror_mode": {
    "name": "ipython",
    "version": 3
   },
   "file_extension": ".py",
   "mimetype": "text/x-python",
   "name": "python",
   "nbconvert_exporter": "python",
   "pygments_lexer": "ipython3",
   "version": "3.9.18"
  }
 },
 "nbformat": 4,
 "nbformat_minor": 5
}
