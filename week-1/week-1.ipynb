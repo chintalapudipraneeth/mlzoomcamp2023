{
 "cells": [
  {
   "cell_type": "code",
   "execution_count": 44,
   "id": "bde4077a",
   "metadata": {},
   "outputs": [],
   "source": [
    "import pandas as pd\n",
    "import numpy as np"
   ]
  },
  {
   "cell_type": "markdown",
   "id": "6cf87d66",
   "metadata": {},
   "source": [
    "# pandas version"
   ]
  },
  {
   "cell_type": "code",
   "execution_count": 2,
   "id": "79a22ed8",
   "metadata": {},
   "outputs": [
    {
     "data": {
      "text/plain": [
       "'2.0.3'"
      ]
     },
     "execution_count": 2,
     "metadata": {},
     "output_type": "execute_result"
    }
   ],
   "source": [
    "pd.__version__"
   ]
  },
  {
   "cell_type": "code",
   "execution_count": null,
   "id": "e1801772",
   "metadata": {},
   "outputs": [],
   "source": []
  },
  {
   "cell_type": "code",
   "execution_count": 7,
   "id": "393892b1",
   "metadata": {},
   "outputs": [],
   "source": [
    "df=pd.read_csv(\"raw.githubusercontent.com_alexeygrigorev_datasets_master_housing.csv\")"
   ]
  },
  {
   "cell_type": "markdown",
   "id": "31c48578",
   "metadata": {},
   "source": [
    "# columns shape"
   ]
  },
  {
   "cell_type": "code",
   "execution_count": 27,
   "id": "0f136239",
   "metadata": {},
   "outputs": [
    {
     "data": {
      "text/plain": [
       "(20640, 10)"
      ]
     },
     "execution_count": 27,
     "metadata": {},
     "output_type": "execute_result"
    }
   ],
   "source": [
    "df.shape"
   ]
  },
  {
   "cell_type": "markdown",
   "id": "3426c2b5",
   "metadata": {},
   "source": [
    "# missing values"
   ]
  },
  {
   "cell_type": "code",
   "execution_count": 15,
   "id": "f9b919f1",
   "metadata": {},
   "outputs": [
    {
     "data": {
      "text/plain": [
       "longitude               0\n",
       "latitude                0\n",
       "housing_median_age      0\n",
       "total_rooms             0\n",
       "total_bedrooms        207\n",
       "population              0\n",
       "households              0\n",
       "median_income           0\n",
       "median_house_value      0\n",
       "ocean_proximity         0\n",
       "dtype: int64"
      ]
     },
     "execution_count": 15,
     "metadata": {},
     "output_type": "execute_result"
    }
   ],
   "source": [
    "df.isna().sum()"
   ]
  },
  {
   "cell_type": "markdown",
   "id": "11c03470",
   "metadata": {},
   "source": [
    "# unique values "
   ]
  },
  {
   "cell_type": "code",
   "execution_count": 17,
   "id": "459d49ea",
   "metadata": {},
   "outputs": [
    {
     "data": {
      "text/plain": [
       "5"
      ]
     },
     "execution_count": 17,
     "metadata": {},
     "output_type": "execute_result"
    }
   ],
   "source": [
    "len(df.ocean_proximity.unique())"
   ]
  },
  {
   "cell_type": "code",
   "execution_count": 21,
   "id": "160bdee4",
   "metadata": {},
   "outputs": [],
   "source": [
    "near_bay=df[df.ocean_proximity=='NEAR BAY']"
   ]
  },
  {
   "cell_type": "code",
   "execution_count": 22,
   "id": "107f1987",
   "metadata": {},
   "outputs": [
    {
     "data": {
      "text/html": [
       "<div>\n",
       "<style scoped>\n",
       "    .dataframe tbody tr th:only-of-type {\n",
       "        vertical-align: middle;\n",
       "    }\n",
       "\n",
       "    .dataframe tbody tr th {\n",
       "        vertical-align: top;\n",
       "    }\n",
       "\n",
       "    .dataframe thead th {\n",
       "        text-align: right;\n",
       "    }\n",
       "</style>\n",
       "<table border=\"1\" class=\"dataframe\">\n",
       "  <thead>\n",
       "    <tr style=\"text-align: right;\">\n",
       "      <th></th>\n",
       "      <th>longitude</th>\n",
       "      <th>latitude</th>\n",
       "      <th>housing_median_age</th>\n",
       "      <th>total_rooms</th>\n",
       "      <th>total_bedrooms</th>\n",
       "      <th>population</th>\n",
       "      <th>households</th>\n",
       "      <th>median_income</th>\n",
       "      <th>median_house_value</th>\n",
       "      <th>ocean_proximity</th>\n",
       "    </tr>\n",
       "  </thead>\n",
       "  <tbody>\n",
       "    <tr>\n",
       "      <th>0</th>\n",
       "      <td>-122.23</td>\n",
       "      <td>37.88</td>\n",
       "      <td>41.0</td>\n",
       "      <td>880.0</td>\n",
       "      <td>129.0</td>\n",
       "      <td>322.0</td>\n",
       "      <td>126.0</td>\n",
       "      <td>8.3252</td>\n",
       "      <td>452600.0</td>\n",
       "      <td>NEAR BAY</td>\n",
       "    </tr>\n",
       "    <tr>\n",
       "      <th>1</th>\n",
       "      <td>-122.22</td>\n",
       "      <td>37.86</td>\n",
       "      <td>21.0</td>\n",
       "      <td>7099.0</td>\n",
       "      <td>1106.0</td>\n",
       "      <td>2401.0</td>\n",
       "      <td>1138.0</td>\n",
       "      <td>8.3014</td>\n",
       "      <td>358500.0</td>\n",
       "      <td>NEAR BAY</td>\n",
       "    </tr>\n",
       "    <tr>\n",
       "      <th>2</th>\n",
       "      <td>-122.24</td>\n",
       "      <td>37.85</td>\n",
       "      <td>52.0</td>\n",
       "      <td>1467.0</td>\n",
       "      <td>190.0</td>\n",
       "      <td>496.0</td>\n",
       "      <td>177.0</td>\n",
       "      <td>7.2574</td>\n",
       "      <td>352100.0</td>\n",
       "      <td>NEAR BAY</td>\n",
       "    </tr>\n",
       "    <tr>\n",
       "      <th>3</th>\n",
       "      <td>-122.25</td>\n",
       "      <td>37.85</td>\n",
       "      <td>52.0</td>\n",
       "      <td>1274.0</td>\n",
       "      <td>235.0</td>\n",
       "      <td>558.0</td>\n",
       "      <td>219.0</td>\n",
       "      <td>5.6431</td>\n",
       "      <td>341300.0</td>\n",
       "      <td>NEAR BAY</td>\n",
       "    </tr>\n",
       "    <tr>\n",
       "      <th>4</th>\n",
       "      <td>-122.25</td>\n",
       "      <td>37.85</td>\n",
       "      <td>52.0</td>\n",
       "      <td>1627.0</td>\n",
       "      <td>280.0</td>\n",
       "      <td>565.0</td>\n",
       "      <td>259.0</td>\n",
       "      <td>3.8462</td>\n",
       "      <td>342200.0</td>\n",
       "      <td>NEAR BAY</td>\n",
       "    </tr>\n",
       "    <tr>\n",
       "      <th>...</th>\n",
       "      <td>...</td>\n",
       "      <td>...</td>\n",
       "      <td>...</td>\n",
       "      <td>...</td>\n",
       "      <td>...</td>\n",
       "      <td>...</td>\n",
       "      <td>...</td>\n",
       "      <td>...</td>\n",
       "      <td>...</td>\n",
       "      <td>...</td>\n",
       "    </tr>\n",
       "    <tr>\n",
       "      <th>19067</th>\n",
       "      <td>-122.45</td>\n",
       "      <td>38.28</td>\n",
       "      <td>20.0</td>\n",
       "      <td>3306.0</td>\n",
       "      <td>503.0</td>\n",
       "      <td>1374.0</td>\n",
       "      <td>460.0</td>\n",
       "      <td>5.7984</td>\n",
       "      <td>297600.0</td>\n",
       "      <td>NEAR BAY</td>\n",
       "    </tr>\n",
       "    <tr>\n",
       "      <th>19068</th>\n",
       "      <td>-122.47</td>\n",
       "      <td>38.29</td>\n",
       "      <td>14.0</td>\n",
       "      <td>3732.0</td>\n",
       "      <td>846.0</td>\n",
       "      <td>1277.0</td>\n",
       "      <td>775.0</td>\n",
       "      <td>2.5658</td>\n",
       "      <td>208000.0</td>\n",
       "      <td>NEAR BAY</td>\n",
       "    </tr>\n",
       "    <tr>\n",
       "      <th>19069</th>\n",
       "      <td>-122.45</td>\n",
       "      <td>38.27</td>\n",
       "      <td>25.0</td>\n",
       "      <td>5024.0</td>\n",
       "      <td>881.0</td>\n",
       "      <td>1994.0</td>\n",
       "      <td>838.0</td>\n",
       "      <td>4.2237</td>\n",
       "      <td>262300.0</td>\n",
       "      <td>NEAR BAY</td>\n",
       "    </tr>\n",
       "    <tr>\n",
       "      <th>19077</th>\n",
       "      <td>-122.49</td>\n",
       "      <td>38.27</td>\n",
       "      <td>8.0</td>\n",
       "      <td>5092.0</td>\n",
       "      <td>988.0</td>\n",
       "      <td>1657.0</td>\n",
       "      <td>936.0</td>\n",
       "      <td>3.5625</td>\n",
       "      <td>213200.0</td>\n",
       "      <td>NEAR BAY</td>\n",
       "    </tr>\n",
       "    <tr>\n",
       "      <th>19104</th>\n",
       "      <td>-122.51</td>\n",
       "      <td>38.17</td>\n",
       "      <td>8.0</td>\n",
       "      <td>5875.0</td>\n",
       "      <td>1115.0</td>\n",
       "      <td>2808.0</td>\n",
       "      <td>1029.0</td>\n",
       "      <td>3.6392</td>\n",
       "      <td>246300.0</td>\n",
       "      <td>NEAR BAY</td>\n",
       "    </tr>\n",
       "  </tbody>\n",
       "</table>\n",
       "<p>2290 rows × 10 columns</p>\n",
       "</div>"
      ],
      "text/plain": [
       "       longitude  latitude  housing_median_age  total_rooms  total_bedrooms  \\\n",
       "0        -122.23     37.88                41.0        880.0           129.0   \n",
       "1        -122.22     37.86                21.0       7099.0          1106.0   \n",
       "2        -122.24     37.85                52.0       1467.0           190.0   \n",
       "3        -122.25     37.85                52.0       1274.0           235.0   \n",
       "4        -122.25     37.85                52.0       1627.0           280.0   \n",
       "...          ...       ...                 ...          ...             ...   \n",
       "19067    -122.45     38.28                20.0       3306.0           503.0   \n",
       "19068    -122.47     38.29                14.0       3732.0           846.0   \n",
       "19069    -122.45     38.27                25.0       5024.0           881.0   \n",
       "19077    -122.49     38.27                 8.0       5092.0           988.0   \n",
       "19104    -122.51     38.17                 8.0       5875.0          1115.0   \n",
       "\n",
       "       population  households  median_income  median_house_value  \\\n",
       "0           322.0       126.0         8.3252            452600.0   \n",
       "1          2401.0      1138.0         8.3014            358500.0   \n",
       "2           496.0       177.0         7.2574            352100.0   \n",
       "3           558.0       219.0         5.6431            341300.0   \n",
       "4           565.0       259.0         3.8462            342200.0   \n",
       "...           ...         ...            ...                 ...   \n",
       "19067      1374.0       460.0         5.7984            297600.0   \n",
       "19068      1277.0       775.0         2.5658            208000.0   \n",
       "19069      1994.0       838.0         4.2237            262300.0   \n",
       "19077      1657.0       936.0         3.5625            213200.0   \n",
       "19104      2808.0      1029.0         3.6392            246300.0   \n",
       "\n",
       "      ocean_proximity  \n",
       "0            NEAR BAY  \n",
       "1            NEAR BAY  \n",
       "2            NEAR BAY  \n",
       "3            NEAR BAY  \n",
       "4            NEAR BAY  \n",
       "...               ...  \n",
       "19067        NEAR BAY  \n",
       "19068        NEAR BAY  \n",
       "19069        NEAR BAY  \n",
       "19077        NEAR BAY  \n",
       "19104        NEAR BAY  \n",
       "\n",
       "[2290 rows x 10 columns]"
      ]
     },
     "execution_count": 22,
     "metadata": {},
     "output_type": "execute_result"
    }
   ],
   "source": [
    "near_bay"
   ]
  },
  {
   "cell_type": "markdown",
   "id": "02c876c2",
   "metadata": {},
   "source": [
    "# mean"
   ]
  },
  {
   "cell_type": "code",
   "execution_count": 29,
   "id": "6dc53a53",
   "metadata": {},
   "outputs": [],
   "source": [
    "\n",
    "near_bay_mean=near_bay.median_house_value.mean()"
   ]
  },
  {
   "cell_type": "code",
   "execution_count": null,
   "id": "7b80bdf0",
   "metadata": {},
   "outputs": [],
   "source": []
  },
  {
   "cell_type": "code",
   "execution_count": 28,
   "id": "fecf054d",
   "metadata": {},
   "outputs": [
    {
     "data": {
      "text/plain": [
       "537.8705525375618"
      ]
     },
     "execution_count": 28,
     "metadata": {},
     "output_type": "execute_result"
    }
   ],
   "source": [
    "df.total_bedrooms.mean()"
   ]
  },
  {
   "cell_type": "code",
   "execution_count": 36,
   "id": "f13cf6e5",
   "metadata": {},
   "outputs": [],
   "source": [
    "df.total_bedrooms=df.total_bedrooms.fillna(near_bay_mean)"
   ]
  },
  {
   "cell_type": "markdown",
   "id": "b4d402f8",
   "metadata": {},
   "source": [
    "# new mean"
   ]
  },
  {
   "cell_type": "code",
   "execution_count": 39,
   "id": "9bb9e1d8",
   "metadata": {},
   "outputs": [
    {
     "data": {
      "text/plain": [
       "3132.134570766054"
      ]
     },
     "execution_count": 39,
     "metadata": {},
     "output_type": "execute_result"
    }
   ],
   "source": [
    "df.total_bedrooms.mean()"
   ]
  },
  {
   "cell_type": "code",
   "execution_count": 40,
   "id": "88f0f92e",
   "metadata": {},
   "outputs": [
    {
     "data": {
      "text/plain": [
       "array(['NEAR BAY', '<1H OCEAN', 'INLAND', 'NEAR OCEAN', 'ISLAND'],\n",
       "      dtype=object)"
      ]
     },
     "execution_count": 40,
     "metadata": {},
     "output_type": "execute_result"
    }
   ],
   "source": [
    "(df.ocean_proximity.unique())"
   ]
  },
  {
   "cell_type": "code",
   "execution_count": 45,
   "id": "45df0a2c",
   "metadata": {},
   "outputs": [],
   "source": [
    "new_df=df[df.ocean_proximity=='ISLAND'][[\"housing_median_age\", \"total_rooms\", \"total_bedrooms\"]]"
   ]
  },
  {
   "cell_type": "code",
   "execution_count": 49,
   "id": "bf5b3830",
   "metadata": {},
   "outputs": [],
   "source": [
    "x=new_df.to_numpy()"
   ]
  },
  {
   "cell_type": "code",
   "execution_count": 50,
   "id": "fbcfc3d3",
   "metadata": {},
   "outputs": [
    {
     "data": {
      "text/plain": [
       "array([[  27., 1675.,  521.],\n",
       "       [  52., 2359.,  591.],\n",
       "       [  52., 2127.,  512.],\n",
       "       [  52.,  996.,  264.],\n",
       "       [  29.,  716.,  214.]])"
      ]
     },
     "execution_count": 50,
     "metadata": {},
     "output_type": "execute_result"
    }
   ],
   "source": [
    "x"
   ]
  },
  {
   "cell_type": "code",
   "execution_count": 53,
   "id": "1a0f8d34",
   "metadata": {},
   "outputs": [],
   "source": [
    "XTX=np.dot(x.T,x)"
   ]
  },
  {
   "cell_type": "code",
   "execution_count": 56,
   "id": "ee90d3dd",
   "metadata": {},
   "outputs": [],
   "source": [
    "inverse_XTX=np.linalg.inv(XTX)"
   ]
  },
  {
   "cell_type": "code",
   "execution_count": 51,
   "id": "02e14ed1",
   "metadata": {},
   "outputs": [],
   "source": [
    "y=np.array([950, 1300, 800, 1000, 1300])"
   ]
  },
  {
   "cell_type": "code",
   "execution_count": 57,
   "id": "c334e3a9",
   "metadata": {},
   "outputs": [],
   "source": [
    "w=np.dot(np.dot(inverse_XTX,x.T),y)"
   ]
  },
  {
   "cell_type": "code",
   "execution_count": 58,
   "id": "87c387e6",
   "metadata": {},
   "outputs": [
    {
     "data": {
      "text/plain": [
       "array([23.12330961, -1.48124183,  5.69922946])"
      ]
     },
     "execution_count": 58,
     "metadata": {},
     "output_type": "execute_result"
    }
   ],
   "source": [
    "w"
   ]
  },
  {
   "cell_type": "code",
   "execution_count": null,
   "id": "feb19509",
   "metadata": {},
   "outputs": [],
   "source": []
  }
 ],
 "metadata": {
  "kernelspec": {
   "display_name": "ml-zoomcamp23",
   "language": "python",
   "name": "ml-zoomcamp23"
  },
  "language_info": {
   "codemirror_mode": {
    "name": "ipython",
    "version": 3
   },
   "file_extension": ".py",
   "mimetype": "text/x-python",
   "name": "python",
   "nbconvert_exporter": "python",
   "pygments_lexer": "ipython3",
   "version": "3.9.18"
  }
 },
 "nbformat": 4,
 "nbformat_minor": 5
}
